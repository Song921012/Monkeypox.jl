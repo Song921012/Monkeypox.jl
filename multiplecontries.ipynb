{
 "cells": [
  {
   "cell_type": "markdown",
   "metadata": {},
   "source": [
    "# Loading packages and datasources"
   ]
  },
  {
   "cell_type": "code",
   "execution_count": 1,
   "metadata": {},
   "outputs": [
    {
     "data": {
      "text/plain": [
       "\"./data/timeseries-country-confirmed.csv\""
      ]
     },
     "execution_count": 1,
     "metadata": {},
     "output_type": "execute_result"
    }
   ],
   "source": [
    "using Monkeypox\n",
    "using Optim\n",
    "using Optimization\n",
    "using Plots\n",
    "using Turing\n",
    "using StatsPlots\n",
    "using BSON:@save,@load\n",
    "countryarray = [\"United States\", \"Spain\", \"Germany\", \"England\", \"France\", \"Brazil\", \"Canada\", \"Netherlands\"]\n",
    "poparray = [329500000.0, 47350000.0, 83240000.0, 55980000.0, 67390000.0, 212600000.0, 38010000.0, 17440000.0]\n",
    "url = \"./data/timeseries-country-confirmed.csv\""
   ]
  },
  {
   "cell_type": "markdown",
   "metadata": {},
   "source": [
    "# Bayesian inference"
   ]
  },
  {
   "cell_type": "code",
   "execution_count": 6,
   "metadata": {},
   "outputs": [
    {
     "ename": "",
     "evalue": "",
     "output_type": "error",
     "traceback": [
      "\u001b[1;31mCanceled future for execute_request message before replies were done"
     ]
    },
    {
     "ename": "",
     "evalue": "",
     "output_type": "error",
     "traceback": [
      "The Kernel crashed while executing code in the the current cell or a previous cell. Please review the code in the cell(s) to identify a possible cause of the failure. Click <a href='https://aka.ms/vscodeJupyterKernelCrash'>here</a> for more info. View Jupyter <a href='command:jupyter.viewOutput'>log</a> for further details."
     ]
    }
   ],
   "source": [
    "for (i, country) in enumerate(countryarray)\n",
    "    data_on, acc, cases, datatspan, datadate = datasource!(url, country)\n",
    "    bar(datadate,acc[datatspan],label=\"Accumulated cases\",title = country)\n",
    "    savefig(\"./output/accdata$i.png\")\n",
    "    bar(datadate, cases[datatspan], label=\"Daily cases\", title=country)\n",
    "    savefig(\"./output/dailydata$i.png\")\n",
    "    N = poparray[i] # population\n",
    "    θ = [0.3, 0.3, 0.2, 0.1, 0.7, 0.01]# ρ,σ,h,α\n",
    "    pknown = [0.0, 0.0, 1 / 30, 1.0] # B,μ,δ,ϕ\n",
    "    lb = [0.0001, 0.0001, 0, 0.0001, 0.0001, 0.0]\n",
    "    ub = [1.0, 1.0, 1.0, 1.0, 1.0, 0.1]\n",
    "    alg = Optim.NelderMead()\n",
    "    p_min = controlmonkeypoxopt!(N, θ, acc, cases, datatspan, pknown, lb, ub, alg)\n",
    "    chainout = controlmonkeypoxinference!(N, p_min, acc, cases, datatspan, pknown, lb, ub)\n",
    "    @save \"chain$i.bason\" chainout\n",
    "    println(country, \"data parameter:\", chainout[2])\n",
    "    prob_pred = controlmonkeypoxprob!(N, θ, acc, pknown)\n",
    "    prediction = controlsimulate!(prob_pred, N, p_min, datatspan, pknown)\n",
    "    scatter(datadate, acc[datatspan], label=\"Training data\")\n",
    "    display(plot!(datadate, prediction[10, :], label=\"Real accumulated cases\"))\n",
    "    savefig(\"./output/controlacc$i.png\")\n",
    "    #plot(datadate, prediction[2, :])\n",
    "    #display(plot(chainout[1]))\n",
    "    datatspan1 = 0:length(acc)-1\n",
    "    prediction1 = controlsimulate!(prob_pred, N, p_min, datatspan1, pknown)\n",
    "    mid = zeros(length(acc))\n",
    "    mid[2:end] = prediction1[10, 1:end-1]\n",
    "    pred_daily = prediction1[10, :] - mid\n",
    "    scatter(datadate, cases[datatspan], label=\"Training data\")\n",
    "    display(plot!(datadate, pred_daily[datatspan], label=\"Daily cases\", title=country))\n",
    "    savefig(\"./output/controldaily$i.png\")\n",
    "    #plot(datadate, prediction[2, :])\n",
    "    display(plot(chainout[1]))\n",
    "    savefig(\"./output/controlchain$i.png\")\n",
    "end"
   ]
  }
 ],
 "metadata": {
  "kernelspec": {
   "display_name": "Julia 1.7.2",
   "language": "julia",
   "name": "julia-1.7"
  },
  "language_info": {
   "file_extension": ".jl",
   "mimetype": "application/julia",
   "name": "julia",
   "version": "1.7.2"
  },
  "orig_nbformat": 4,
  "vscode": {
   "interpreter": {
    "hash": "a5d6c2be6262c78dadbf075e7ed7eef3fc1090c1044fdcff36d11e01ba01e819"
   }
  }
 },
 "nbformat": 4,
 "nbformat_minor": 2
}
