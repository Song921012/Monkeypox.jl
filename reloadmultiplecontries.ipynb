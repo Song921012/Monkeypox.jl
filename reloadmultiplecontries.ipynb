{
 "cells": [
  {
   "cell_type": "code",
   "execution_count": 1,
   "metadata": {},
   "outputs": [
    {
     "name": "stderr",
     "output_type": "stream",
     "text": [
      "\u001b[32m\u001b[1m  Activating\u001b[22m\u001b[39m project at `f:\\Code\\Julia\\Julia-1.6.2\\jpkgs\\.julia\\dev\\Monkeypox`\n"
     ]
    }
   ],
   "source": [
    "] activate ."
   ]
  },
  {
   "cell_type": "code",
   "execution_count": 2,
   "metadata": {},
   "outputs": [],
   "source": [
    "using Monkeypox\n",
    "using Optim\n",
    "using Optimization\n",
    "using Plots\n",
    "using Turing\n",
    "using StatsPlots\n",
    "using BSON:@save,@load\n",
    "using BSON\n",
    "countryarray = [\"United States\", \"Spain\", \"Germany\", \"United Kingdom\", \"France\", \"Brazil\", \"Canada\", \"Netherlands\"]\n",
    "poparray = [329500000.0, 47350000.0, 83240000.0, 55980000.0, 67390000.0, 212600000.0, 38010000.0, 17440000.0]\n",
    "url = \"./data/timeseries-country-confirmed.csv\";"
   ]
  },
  {
   "cell_type": "code",
   "execution_count": 3,
   "metadata": {},
   "outputs": [
    {
     "ename": "",
     "evalue": "",
     "output_type": "error",
     "traceback": [
      "\u001b[1;31mCanceled future for execute_request message before replies were done"
     ]
    },
    {
     "ename": "",
     "evalue": "",
     "output_type": "error",
     "traceback": [
      "The Kernel crashed while executing code in the the current cell or a previous cell. Please review the code in the cell(s) to identify a possible cause of the failure. Click <a href='https://aka.ms/vscodeJupyterKernelCrash'>here</a> for more info. View Jupyter <a href='command:jupyter.viewOutput'>log</a> for further details."
     ]
    }
   ],
   "source": [
    "    i = 1\n",
    "    country = \"United States\"\n",
    "    data_on, acc, cases, datatspan, datadate = datasource!(url, country)\n",
    "    bar(datadate, acc[datatspan], label=\"Accumulated cases\", title=country)\n",
    "    savefig(\"./output/accdata$i.png\")\n",
    "    bar(datadate, cases[datatspan], label=\"Daily cases\", title=country)\n",
    "    savefig(\"./output/dailydata$i.png\")\n",
    "    N = poparray[i] # population\n",
    "    θ = [0.3, 0.3, 0.2, 0.1, 0.7, 0.01]# ρ,σ,h,α\n",
    "    pknown = [0.0, 0.0, 1 / 30, 1.0] # B,μ,δ,ϕ\n",
    "    lb = [0.0001, 0.0001, 0, 0.0001, 0.0001, 0.0]\n",
    "    ub = [1.0, 1.0, 1.0, 1.0, 1.0, 0.1]\n",
    "    alg = Optim.NelderMead()\n",
    "    p_min = controlmonkeypoxopt!(N, θ, acc, cases, datatspan, pknown, lb, ub, alg)\n",
    "    chainout = controlmonkeypoxinference!(N, p_min, acc, cases, datatspan, pknown, lb, ub)\n",
    "    @save \"./output/chain$i.bson\" chainout\n",
    "    println(country, \"data parameter:\", chainout[2])\n"
   ]
  },
  {
   "cell_type": "code",
   "execution_count": null,
   "metadata": {},
   "outputs": [],
   "source": [
    "prob_pred = controlmonkeypoxprob!(N, θ, acc, pknown)\n",
    "    function prob_func(prob, i, repeat)\n",
    "        B = pknown[1]\n",
    "        μ = pknown[2]\n",
    "        δ = pknown[3]\n",
    "        ϕ = pknown[4]\n",
    "        θ = chain_array[rand(1:2000), 1:6]\n",
    "        p0 = [B, μ, θ[1], θ[2], θ[3], θ[4], δ, θ[5], ϕ]\n",
    "        u0 = [N - 1.0, 1.0, 0.0, θ[6] * N, 0.0, 0.0, 0.0, 0.0, 0.0, 0.0]\n",
    "        prob_pred_train = remake(prob, u0=u0, p=p0)\n",
    "    end\n",
    "    ensemble_prob = EnsembleProblem(prob_pred, prob_func=prob_func)\n",
    "    sim = solve(ensemble_prob, Tsit5(), EnsembleThreads(), trajectories=100)\n",
    "    plot(sim)\n",
    "    simm = EnsembleSummary(sim; quantiles=[0.05, 0.95])\n",
    "    display(plot(simm, error_style=:bars))\n",
    "    display(plot(simm, fillalpha=0.3))\n",
    "    plot(simm, idxs=[2, 3], fillalpha=0.3)\n",
    "    xlabel!(\"days\")\n",
    "    display(ylabel!(\"Case\"))"
   ]
  },
  {
   "cell_type": "code",
   "execution_count": null,
   "metadata": {},
   "outputs": [],
   "source": [
    "function runinference!(i, country)\n",
    "    data_on, acc, cases, datatspan, datadate = datasource!(url, country)\n",
    "    bar(datadate, acc[datatspan], label=\"Accumulated cases\", title=country)\n",
    "    savefig(\"./output/accdata$i.png\")\n",
    "    bar(datadate, cases[datatspan], label=\"Daily cases\", title=country)\n",
    "    savefig(\"./output/dailydata$i.png\")\n",
    "    N = poparray[i] # population\n",
    "    θ = [0.3, 0.3, 0.2, 0.1, 0.7, 0.01]# ρ,σ,h,α\n",
    "    pknown = [0.0, 0.0, 1 / 30, 1.0] # B,μ,δ,ϕ\n",
    "    lb = [0.0001, 0.0001, 0, 0.0001, 0.0001, 0.0]\n",
    "    ub = [1.0, 1.0, 1.0, 1.0, 1.0, 0.1]\n",
    "    alg = Optim.NelderMead()\n",
    "    p_min = controlmonkeypoxopt!(N, θ, acc, cases, datatspan, pknown, lb, ub, alg)\n",
    "    chainout = controlmonkeypoxinference!(N, p_min, acc, cases, datatspan, pknown, lb, ub)\n",
    "    @save \"./output/chain$i.bson\" chainout\n",
    "    println(country, \"data parameter:\", chainout[2])\n",
    "    prob_pred = controlmonkeypoxprob!(N, θ, acc, pknown)\n",
    "    function prob_func(prob, i, repeat)\n",
    "        B = pknown[1]\n",
    "        μ = pknown[2]\n",
    "        δ = pknown[3]\n",
    "        ϕ = pknown[4]\n",
    "        θ = chain_array[rand(1:2000), 1:6]\n",
    "        p0 = [B, μ, θ[1], θ[2], θ[3], θ[4], δ, θ[5], ϕ]\n",
    "        u0 = [N - 1.0, 1.0, 0.0, θ[6] * N, 0.0, 0.0, 0.0, 0.0, 0.0, 0.0]\n",
    "        prob_pred_train = remake(prob, u0=u0, p=p0)\n",
    "    end\n",
    "    ensemble_prob = EnsembleProblem(prob_pred, prob_func=prob_func)\n",
    "    sim = solve(ensemble_prob, Tsit5(), EnsembleThreads(), trajectories=100)\n",
    "    plot(sim)\n",
    "    simm = EnsembleSummary(sim; quantiles=[0.05, 0.95])\n",
    "    display(plot(simm, error_style=:bars))\n",
    "    display(plot(simm, fillalpha=0.3))\n",
    "    plot(simm, idxs=[2, 3], fillalpha=0.3)\n",
    "    xlabel!(\"days\")\n",
    "    display(ylabel!(\"Case\"))\n",
    "end"
   ]
  },
  {
   "cell_type": "code",
   "execution_count": null,
   "metadata": {},
   "outputs": [],
   "source": [
    "runinference!(1,\"United States\")"
   ]
  },
  {
   "cell_type": "code",
   "execution_count": null,
   "metadata": {},
   "outputs": [],
   "source": [
    "function siminference!(i, country)\n",
    "    data_on, acc, cases, datatspan, datadate = datasource!(url, country)\n",
    "    N = poparray[i] # population\n",
    "    θ = [0.3, 0.3, 0.2, 0.1, 0.7, 0.01]# ρ,σ,h,α\n",
    "    pknown = [0.0, 0.0, 1 / 30, 1.0] # B,μ,δ,ϕ\n",
    "    @load \"./output/chain$i.bson\" chainout\n",
    "    println(country, \"data parameter:\", chainout[2])\n",
    "    chain_array = Array(chainout)\n",
    "    prob_pred = controlmonkeypoxprob!(N, θ, acc, pknown)\n",
    "\n",
    "    function prob_func(prob, i, repeat)\n",
    "        B = pknown[1]\n",
    "        μ = pknown[2]\n",
    "        δ = pknown[3]\n",
    "        ϕ = pknown[4]\n",
    "        θ = chain_array[rand(1:2000),1:6]\n",
    "        p0 = [B, μ, θ[1], θ[2], θ[3], θ[4], δ, θ[5], ϕ]\n",
    "        u0 = [N - 1.0, 1.0, 0.0, θ[6] * N, 0.0, 0.0, 0.0, 0.0, 0.0, 0.0]\n",
    "        prob_pred_train = remake(prob, u0=u0, p=p0)\n",
    "    end\n",
    "    ensemble_prob = EnsembleProblem(prob_pred, prob_func=prob_func)\n",
    "    sim = solve(ensemble_prob, Tsit5(), EnsembleThreads(), trajectories=100)\n",
    "    plot(sim)\n",
    "    simm = EnsembleSummary(sim; quantiles=[0.05, 0.95])\n",
    "    plot(simm, error_style=:bars)\n",
    "    plot(simm, fillalpha=0.3)\n",
    "    plot(simm, idxs=[2, 3], fillalpha=0.3)\n",
    "    xlabel!(\"days\")\n",
    "    ylabel!(\"Case\")\n",
    "end"
   ]
  },
  {
   "cell_type": "code",
   "execution_count": null,
   "metadata": {},
   "outputs": [],
   "source": [
    "siminference!(1,\"United States\")"
   ]
  }
 ],
 "metadata": {
  "kernelspec": {
   "display_name": "Julia 1.8.0",
   "language": "julia",
   "name": "julia-1.8"
  },
  "language_info": {
   "file_extension": ".jl",
   "mimetype": "application/julia",
   "name": "julia",
   "version": "1.8.0"
  },
  "orig_nbformat": 4,
  "vscode": {
   "interpreter": {
    "hash": "a5d6c2be6262c78dadbf075e7ed7eef3fc1090c1044fdcff36d11e01ba01e819"
   }
  }
 },
 "nbformat": 4,
 "nbformat_minor": 2
}
