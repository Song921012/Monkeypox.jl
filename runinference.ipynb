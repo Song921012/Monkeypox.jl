{
 "cells": [
  {
   "cell_type": "code",
   "execution_count": 1,
   "metadata": {},
   "outputs": [
    {
     "data": {
      "text/plain": [
       "(\u001b[1m90×4 DataFrame\u001b[0m\n",
       "\u001b[1m Row \u001b[0m│\u001b[1m Date       \u001b[0m\u001b[1m Cases \u001b[0m\u001b[1m Cumulative_cases \u001b[0m\u001b[1m Country       \u001b[0m\n",
       "\u001b[1m     \u001b[0m│\u001b[90m Date       \u001b[0m\u001b[90m Int64 \u001b[0m\u001b[90m Int64            \u001b[0m\u001b[90m String        \u001b[0m\n",
       "─────┼────────────────────────────────────────────────────\n",
       "   1 │ 2022-05-18      1                 1  United States\n",
       "   2 │ 2022-05-19      1                 2  United States\n",
       "   3 │ 2022-05-20      0                 2  United States\n",
       "   4 │ 2022-05-21      0                 2  United States\n",
       "   5 │ 2022-05-22      0                 2  United States\n",
       "   6 │ 2022-05-23      0                 2  United States\n",
       "   7 │ 2022-05-24      2                 4  United States\n",
       "   8 │ 2022-05-25      2                 6  United States\n",
       "  ⋮  │     ⋮         ⋮           ⋮                ⋮\n",
       "  84 │ 2022-08-09    559              9461  United States\n",
       "  85 │ 2022-08-10    899             10360  United States\n",
       "  86 │ 2022-08-11    366             10726  United States\n",
       "  87 │ 2022-08-12    404             11130  United States\n",
       "  88 │ 2022-08-13      0             11130  United States\n",
       "  89 │ 2022-08-14      0             11130  United States\n",
       "  90 │ 2022-08-15      0             11130  United States\n",
       "\u001b[36m                                           75 rows omitted\u001b[0m, [1, 2, 2, 2, 2, 2, 4, 6, 11, 15  …  7492, 7492, 8902, 9461, 10360, 10726, 11130, 11130, 11130, 11130], [1, 1, 0, 0, 0, 0, 2, 2, 5, 4  …  0, 0, 1410, 559, 899, 366, 404, 0, 0, 0], [1, 2, 7, 8, 9, 10, 11, 12, 14, 15  …  76, 77, 78, 79, 80, 83, 84, 85, 86, 87], [Dates.Date(\"2022-05-18\"), Dates.Date(\"2022-05-19\"), Dates.Date(\"2022-05-24\"), Dates.Date(\"2022-05-25\"), Dates.Date(\"2022-05-26\"), Dates.Date(\"2022-05-27\"), Dates.Date(\"2022-05-28\"), Dates.Date(\"2022-05-29\"), Dates.Date(\"2022-05-31\"), Dates.Date(\"2022-06-01\")  …  Dates.Date(\"2022-08-01\"), Dates.Date(\"2022-08-02\"), Dates.Date(\"2022-08-03\"), Dates.Date(\"2022-08-04\"), Dates.Date(\"2022-08-05\"), Dates.Date(\"2022-08-08\"), Dates.Date(\"2022-08-09\"), Dates.Date(\"2022-08-10\"), Dates.Date(\"2022-08-11\"), Dates.Date(\"2022-08-12\")])"
      ]
     },
     "metadata": {},
     "output_type": "display_data"
    }
   ],
   "source": [
    "using Monkeypox\n",
    "using Optim\n",
    "using Optimization\n",
    "using Plots\n",
    "using Turing\n",
    "using StatsPlots\n",
    "url = \"./data/timeseries-country-confirmed.csv\"\n",
    "url1 = \"https://raw.githubusercontent.com/globaldothealth/monkeypox/main/timeseries-country-confirmed.csv\"\n",
    "country = \"United States\"\n",
    "data_on, acc, cases, datatspan, datadate = datasource!(url, country)"
   ]
  },
  {
   "cell_type": "code",
   "execution_count": null,
   "metadata": {},
   "outputs": [],
   "source": [
    "N = 329500000.0\n",
    "#N = 329500000.0 # population\n",
    "θ = [0.3, 0.3, 0.2, 0.1, 0.7, 0.01]# ρ,σ,h,α\n",
    "pknown = [0.0, 0.0, 1 / 30, 1.0] # B,μ,δ,ϕ\n",
    "lb = [0.0001, 0.0001, 0, 0.0001, 0.0001, 0.0]\n",
    "ub = [1.0, 1.0, 1.0, 1.0, 1.0, 0.1]\n",
    "alg = Optim.NelderMead()\n",
    "p_min = controlmonkeypoxopt!(N, θ, acc, cases, datatspan, pknown, lb, ub, alg)\n",
    "chainout = controlmonkeypoxinference!(N, p_min, acc, cases, datatspan, pknown, lb, ub)\n"
   ]
  },
  {
   "cell_type": "code",
   "execution_count": null,
   "metadata": {},
   "outputs": [],
   "source": [
    "println(\"data parameter:\", chainout[2])\n",
    "prob_pred = controlmonkeypoxprob!(N, θ, acc, pknown)\n",
    "prediction = controlsimulate!(prob_pred, N, p_min, datatspan, pknown)\n",
    "scatter(datadate, acc, label=\"Training data\")\n",
    "display(plot!(datadate, prediction[10, :], label=\"Real accumulated cases\"))\n",
    "#plot(datadate, prediction[2, :])\n",
    "display(plot(chainout[1]))"
   ]
  }
 ],
 "metadata": {
  "kernelspec": {
   "display_name": "Julia 1.7.2",
   "language": "julia",
   "name": "julia-1.7"
  },
  "language_info": {
   "file_extension": ".jl",
   "mimetype": "application/julia",
   "name": "julia",
   "version": "1.7.2"
  },
  "orig_nbformat": 4,
  "vscode": {
   "interpreter": {
    "hash": "a5d6c2be6262c78dadbf075e7ed7eef3fc1090c1044fdcff36d11e01ba01e819"
   }
  }
 },
 "nbformat": 4,
 "nbformat_minor": 2
}
